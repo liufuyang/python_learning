{
 "cells": [
  {
   "cell_type": "code",
   "execution_count": null,
   "metadata": {
    "collapsed": false
   },
   "outputs": [],
   "source": [
    "ls"
   ]
  },
  {
   "cell_type": "markdown",
   "metadata": {},
   "source": [
    "# Plan:\n",
    "\n",
    "1. load the data into pandas dataform (done)\n",
    "2. reformat it as the way we want"
   ]
  },
  {
   "cell_type": "code",
   "execution_count": 23,
   "metadata": {
    "collapsed": false
   },
   "outputs": [],
   "source": [
    "import pandas as pd\n",
    "import numpy as np"
   ]
  },
  {
   "cell_type": "code",
   "execution_count": null,
   "metadata": {
    "collapsed": true
   },
   "outputs": [],
   "source": [
    "#from datetime import datetime\n",
    "\n",
    "#headers = ['col1', 'col2', 'col3', 'col4'] \n",
    "#dtypes = [datetime, datetime, str, float] \n",
    "\n",
    "# pd.read_csv(file, sep='\\t', header=None, names=headers, dtype=dtypes)"
   ]
  },
  {
   "cell_type": "code",
   "execution_count": 11,
   "metadata": {
    "collapsed": false
   },
   "outputs": [],
   "source": [
    "df = pd.read_csv('./data1.csv', parse_dates=True)"
   ]
  },
  {
   "cell_type": "code",
   "execution_count": 12,
   "metadata": {
    "collapsed": false
   },
   "outputs": [
    {
     "data": {
      "text/html": [
       "<div>\n",
       "<table border=\"1\" class=\"dataframe\">\n",
       "  <thead>\n",
       "    <tr style=\"text-align: right;\">\n",
       "      <th></th>\n",
       "      <th>tagname</th>\n",
       "      <th>time</th>\n",
       "      <th>value1</th>\n",
       "      <th>value2</th>\n",
       "    </tr>\n",
       "  </thead>\n",
       "  <tbody>\n",
       "    <tr>\n",
       "      <th>0</th>\n",
       "      <td>FL02.X05_Z4105.f_CV</td>\n",
       "      <td>12/12/2016 09:00:30</td>\n",
       "      <td>5.90</td>\n",
       "      <td>0.16</td>\n",
       "    </tr>\n",
       "    <tr>\n",
       "      <th>1</th>\n",
       "      <td>FL02.X05_Z4105.f_CV</td>\n",
       "      <td>12/12/2016 09:01:30</td>\n",
       "      <td>5.10</td>\n",
       "      <td>0.45</td>\n",
       "    </tr>\n",
       "    <tr>\n",
       "      <th>2</th>\n",
       "      <td>FL02.X05_Z4105.f_CV</td>\n",
       "      <td>12/12/2016 09:02:30</td>\n",
       "      <td>5.11</td>\n",
       "      <td>0.55</td>\n",
       "    </tr>\n",
       "  </tbody>\n",
       "</table>\n",
       "</div>"
      ],
      "text/plain": [
       "               tagname                 time  value1  value2\n",
       "0  FL02.X05_Z4105.f_CV  12/12/2016 09:00:30    5.90    0.16\n",
       "1  FL02.X05_Z4105.f_CV  12/12/2016 09:01:30    5.10    0.45\n",
       "2  FL02.X05_Z4105.f_CV  12/12/2016 09:02:30    5.11    0.55"
      ]
     },
     "execution_count": 12,
     "metadata": {},
     "output_type": "execute_result"
    }
   ],
   "source": [
    "df.head(3)"
   ]
  },
  {
   "cell_type": "code",
   "execution_count": 13,
   "metadata": {
    "collapsed": false
   },
   "outputs": [
    {
     "data": {
      "text/html": [
       "<div>\n",
       "<table border=\"1\" class=\"dataframe\">\n",
       "  <thead>\n",
       "    <tr style=\"text-align: right;\">\n",
       "      <th></th>\n",
       "      <th>tagname</th>\n",
       "      <th>time</th>\n",
       "      <th>value1</th>\n",
       "      <th>value2</th>\n",
       "    </tr>\n",
       "  </thead>\n",
       "  <tbody>\n",
       "    <tr>\n",
       "      <th>0</th>\n",
       "      <td>FL02.X05_Z4105.f_CV</td>\n",
       "      <td>12/12/2016 09:00:30</td>\n",
       "      <td>5.90</td>\n",
       "      <td>0.16</td>\n",
       "    </tr>\n",
       "    <tr>\n",
       "      <th>1</th>\n",
       "      <td>FL02.X05_Z4105.f_CV</td>\n",
       "      <td>12/12/2016 09:01:30</td>\n",
       "      <td>5.10</td>\n",
       "      <td>0.45</td>\n",
       "    </tr>\n",
       "    <tr>\n",
       "      <th>2</th>\n",
       "      <td>FL02.X05_Z4105.f_CV</td>\n",
       "      <td>12/12/2016 09:02:30</td>\n",
       "      <td>5.11</td>\n",
       "      <td>0.55</td>\n",
       "    </tr>\n",
       "    <tr>\n",
       "      <th>3</th>\n",
       "      <td>FL02.X05_Z4104.f_CV</td>\n",
       "      <td>12/12/2016 09:00:30</td>\n",
       "      <td>6.87</td>\n",
       "      <td>0.44</td>\n",
       "    </tr>\n",
       "    <tr>\n",
       "      <th>4</th>\n",
       "      <td>FL02.X05_Z4104.f_CV</td>\n",
       "      <td>12/12/2016 09:01:30</td>\n",
       "      <td>6.88</td>\n",
       "      <td>0.34</td>\n",
       "    </tr>\n",
       "    <tr>\n",
       "      <th>5</th>\n",
       "      <td>FL02.X05_Z4104.f_CV</td>\n",
       "      <td>12/12/2016 09:02:30</td>\n",
       "      <td>6.89</td>\n",
       "      <td>0.92</td>\n",
       "    </tr>\n",
       "    <tr>\n",
       "      <th>6</th>\n",
       "      <td>FL02.X05_Z4103.f_CV</td>\n",
       "      <td>12/12/2016 09:00:30</td>\n",
       "      <td>4.67</td>\n",
       "      <td>0.96</td>\n",
       "    </tr>\n",
       "    <tr>\n",
       "      <th>7</th>\n",
       "      <td>FL02.X05_Z4103.f_CV</td>\n",
       "      <td>12/12/2016 09:01:30</td>\n",
       "      <td>4.77</td>\n",
       "      <td>0.90</td>\n",
       "    </tr>\n",
       "    <tr>\n",
       "      <th>8</th>\n",
       "      <td>FL02.X05_Z4103.f_CV</td>\n",
       "      <td>12/12/2016 09:02:30</td>\n",
       "      <td>4.78</td>\n",
       "      <td>0.27</td>\n",
       "    </tr>\n",
       "  </tbody>\n",
       "</table>\n",
       "</div>"
      ],
      "text/plain": [
       "               tagname                 time  value1  value2\n",
       "0  FL02.X05_Z4105.f_CV  12/12/2016 09:00:30    5.90    0.16\n",
       "1  FL02.X05_Z4105.f_CV  12/12/2016 09:01:30    5.10    0.45\n",
       "2  FL02.X05_Z4105.f_CV  12/12/2016 09:02:30    5.11    0.55\n",
       "3  FL02.X05_Z4104.f_CV  12/12/2016 09:00:30    6.87    0.44\n",
       "4  FL02.X05_Z4104.f_CV  12/12/2016 09:01:30    6.88    0.34\n",
       "5  FL02.X05_Z4104.f_CV  12/12/2016 09:02:30    6.89    0.92\n",
       "6  FL02.X05_Z4103.f_CV  12/12/2016 09:00:30    4.67    0.96\n",
       "7  FL02.X05_Z4103.f_CV  12/12/2016 09:01:30    4.77    0.90\n",
       "8  FL02.X05_Z4103.f_CV  12/12/2016 09:02:30    4.78    0.27"
      ]
     },
     "execution_count": 13,
     "metadata": {},
     "output_type": "execute_result"
    }
   ],
   "source": [
    "df"
   ]
  },
  {
   "cell_type": "code",
   "execution_count": 14,
   "metadata": {
    "collapsed": false
   },
   "outputs": [
    {
     "data": {
      "text/plain": [
       "Index([u'tagname', u'time', u'value1', u'value2'], dtype='object')"
      ]
     },
     "execution_count": 14,
     "metadata": {},
     "output_type": "execute_result"
    }
   ],
   "source": [
    "df.columns"
   ]
  },
  {
   "cell_type": "code",
   "execution_count": 15,
   "metadata": {
    "collapsed": false
   },
   "outputs": [
    {
     "data": {
      "text/plain": [
       "dtype('O')"
      ]
     },
     "execution_count": 15,
     "metadata": {},
     "output_type": "execute_result"
    }
   ],
   "source": [
    "df['time'].dtype"
   ]
  },
  {
   "cell_type": "markdown",
   "metadata": {},
   "source": [
    "## Split the data in 3 group"
   ]
  },
  {
   "cell_type": "code",
   "execution_count": 16,
   "metadata": {
    "collapsed": true
   },
   "outputs": [],
   "source": [
    "df1 = df[ df['tagname'] == 'FL02.X05_Z4105.f_CV']"
   ]
  },
  {
   "cell_type": "code",
   "execution_count": 17,
   "metadata": {
    "collapsed": false
   },
   "outputs": [
    {
     "data": {
      "text/html": [
       "<div>\n",
       "<table border=\"1\" class=\"dataframe\">\n",
       "  <thead>\n",
       "    <tr style=\"text-align: right;\">\n",
       "      <th></th>\n",
       "      <th>tagname</th>\n",
       "      <th>time</th>\n",
       "      <th>value1</th>\n",
       "      <th>value2</th>\n",
       "    </tr>\n",
       "  </thead>\n",
       "  <tbody>\n",
       "    <tr>\n",
       "      <th>0</th>\n",
       "      <td>FL02.X05_Z4105.f_CV</td>\n",
       "      <td>12/12/2016 09:00:30</td>\n",
       "      <td>5.90</td>\n",
       "      <td>0.16</td>\n",
       "    </tr>\n",
       "    <tr>\n",
       "      <th>1</th>\n",
       "      <td>FL02.X05_Z4105.f_CV</td>\n",
       "      <td>12/12/2016 09:01:30</td>\n",
       "      <td>5.10</td>\n",
       "      <td>0.45</td>\n",
       "    </tr>\n",
       "    <tr>\n",
       "      <th>2</th>\n",
       "      <td>FL02.X05_Z4105.f_CV</td>\n",
       "      <td>12/12/2016 09:02:30</td>\n",
       "      <td>5.11</td>\n",
       "      <td>0.55</td>\n",
       "    </tr>\n",
       "  </tbody>\n",
       "</table>\n",
       "</div>"
      ],
      "text/plain": [
       "               tagname                 time  value1  value2\n",
       "0  FL02.X05_Z4105.f_CV  12/12/2016 09:00:30    5.90    0.16\n",
       "1  FL02.X05_Z4105.f_CV  12/12/2016 09:01:30    5.10    0.45\n",
       "2  FL02.X05_Z4105.f_CV  12/12/2016 09:02:30    5.11    0.55"
      ]
     },
     "execution_count": 17,
     "metadata": {},
     "output_type": "execute_result"
    }
   ],
   "source": [
    "df1"
   ]
  },
  {
   "cell_type": "code",
   "execution_count": 26,
   "metadata": {
    "collapsed": true
   },
   "outputs": [],
   "source": [
    "df_grouped = df.groupby('tagname')"
   ]
  },
  {
   "cell_type": "code",
   "execution_count": 28,
   "metadata": {
    "collapsed": false
   },
   "outputs": [
    {
     "ename": "TypeError",
     "evalue": "agg() takes at least 2 arguments (1 given)",
     "output_type": "error",
     "traceback": [
      "\u001b[0;31m---------------------------------------------------------------------------\u001b[0m",
      "\u001b[0;31mTypeError\u001b[0m                                 Traceback (most recent call last)",
      "\u001b[0;32m<ipython-input-28-1b8281ea1133>\u001b[0m in \u001b[0;36m<module>\u001b[0;34m()\u001b[0m\n\u001b[0;32m----> 1\u001b[0;31m \u001b[0mdf_grouped\u001b[0m\u001b[0;34m.\u001b[0m\u001b[0magg\u001b[0m\u001b[0;34m(\u001b[0m\u001b[0;34m)\u001b[0m\u001b[0;34m\u001b[0m\u001b[0m\n\u001b[0m",
      "\u001b[0;31mTypeError\u001b[0m: agg() takes at least 2 arguments (1 given)"
     ]
    }
   ],
   "source": [
    "df_grouped.agg()"
   ]
  },
  {
   "cell_type": "code",
   "execution_count": 31,
   "metadata": {
    "collapsed": false
   },
   "outputs": [],
   "source": [
    "tag_names = df['tagname'].unique()"
   ]
  },
  {
   "cell_type": "code",
   "execution_count": 32,
   "metadata": {
    "collapsed": false
   },
   "outputs": [
    {
     "data": {
      "text/plain": [
       "array(['FL02.X05_Z4105.f_CV', 'FL02.X05_Z4104.f_CV', 'FL02.X05_Z4103.f_CV'], dtype=object)"
      ]
     },
     "execution_count": 32,
     "metadata": {},
     "output_type": "execute_result"
    }
   ],
   "source": [
    "tag_names"
   ]
  },
  {
   "cell_type": "code",
   "execution_count": 41,
   "metadata": {
    "collapsed": false
   },
   "outputs": [
    {
     "data": {
      "text/plain": [
       "{'FL02.X05_Z4103.f_CV':                tagname                 time  value1  value2\n",
       " 6  FL02.X05_Z4103.f_CV  12/12/2016 09:00:30    4.67    0.96\n",
       " 7  FL02.X05_Z4103.f_CV  12/12/2016 09:01:30    4.77    0.90\n",
       " 8  FL02.X05_Z4103.f_CV  12/12/2016 09:02:30    4.78    0.27,\n",
       " 'FL02.X05_Z4104.f_CV':                tagname                 time  value1  value2\n",
       " 3  FL02.X05_Z4104.f_CV  12/12/2016 09:00:30    6.87    0.44\n",
       " 4  FL02.X05_Z4104.f_CV  12/12/2016 09:01:30    6.88    0.34\n",
       " 5  FL02.X05_Z4104.f_CV  12/12/2016 09:02:30    6.89    0.92,\n",
       " 'FL02.X05_Z4105.f_CV':                tagname                 time  value1  value2\n",
       " 0  FL02.X05_Z4105.f_CV  12/12/2016 09:00:30    5.90    0.16\n",
       " 1  FL02.X05_Z4105.f_CV  12/12/2016 09:01:30    5.10    0.45\n",
       " 2  FL02.X05_Z4105.f_CV  12/12/2016 09:02:30    5.11    0.55}"
      ]
     },
     "execution_count": 41,
     "metadata": {},
     "output_type": "execute_result"
    }
   ],
   "source": [
    "tag_names = df['tagname'].unique() # gets the unique tag names\n",
    "data_dic = {}\n",
    "\n",
    "for name in tag_names: # use the unique name to assemble a dictionary, with name as key, value as selected data\n",
    "    # print(name)\n",
    "    data_dic[name] = df[ df['tagname'] == name]\n",
    "    \n",
    "data_dic"
   ]
  },
  {
   "cell_type": "code",
   "execution_count": 36,
   "metadata": {
    "collapsed": true
   },
   "outputs": [],
   "source": [
    "dummy_dic = {\n",
    "    'FL02.X05_Z4105.f_CV': 100,\n",
    "    'FL02.X05_Z4104.f_CV': 200,\n",
    "    'FL02.X05_Z4103.f_CV': df\n",
    "}"
   ]
  },
  {
   "cell_type": "code",
   "execution_count": 42,
   "metadata": {
    "collapsed": false
   },
   "outputs": [
    {
     "data": {
      "text/html": [
       "<div>\n",
       "<table border=\"1\" class=\"dataframe\">\n",
       "  <thead>\n",
       "    <tr style=\"text-align: right;\">\n",
       "      <th></th>\n",
       "      <th>tagname</th>\n",
       "      <th>time</th>\n",
       "      <th>value1</th>\n",
       "      <th>value2</th>\n",
       "    </tr>\n",
       "  </thead>\n",
       "  <tbody>\n",
       "    <tr>\n",
       "      <th>6</th>\n",
       "      <td>FL02.X05_Z4103.f_CV</td>\n",
       "      <td>12/12/2016 09:00:30</td>\n",
       "      <td>4.67</td>\n",
       "      <td>0.96</td>\n",
       "    </tr>\n",
       "    <tr>\n",
       "      <th>7</th>\n",
       "      <td>FL02.X05_Z4103.f_CV</td>\n",
       "      <td>12/12/2016 09:01:30</td>\n",
       "      <td>4.77</td>\n",
       "      <td>0.90</td>\n",
       "    </tr>\n",
       "    <tr>\n",
       "      <th>8</th>\n",
       "      <td>FL02.X05_Z4103.f_CV</td>\n",
       "      <td>12/12/2016 09:02:30</td>\n",
       "      <td>4.78</td>\n",
       "      <td>0.27</td>\n",
       "    </tr>\n",
       "  </tbody>\n",
       "</table>\n",
       "</div>"
      ],
      "text/plain": [
       "               tagname                 time  value1  value2\n",
       "6  FL02.X05_Z4103.f_CV  12/12/2016 09:00:30    4.67    0.96\n",
       "7  FL02.X05_Z4103.f_CV  12/12/2016 09:01:30    4.77    0.90\n",
       "8  FL02.X05_Z4103.f_CV  12/12/2016 09:02:30    4.78    0.27"
      ]
     },
     "execution_count": 42,
     "metadata": {},
     "output_type": "execute_result"
    }
   ],
   "source": [
    "data_dic['FL02.X05_Z4103.f_CV']"
   ]
  },
  {
   "cell_type": "code",
   "execution_count": 48,
   "metadata": {
    "collapsed": false
   },
   "outputs": [
    {
     "data": {
      "text/plain": [
       "3"
      ]
     },
     "execution_count": 48,
     "metadata": {},
     "output_type": "execute_result"
    }
   ],
   "source": [
    "len(data_dic)"
   ]
  },
  {
   "cell_type": "code",
   "execution_count": null,
   "metadata": {
    "collapsed": true
   },
   "outputs": [],
   "source": []
  }
 ],
 "metadata": {
  "kernelspec": {
   "display_name": "Python 2",
   "language": "python",
   "name": "python2"
  },
  "language_info": {
   "codemirror_mode": {
    "name": "ipython",
    "version": 2
   },
   "file_extension": ".py",
   "mimetype": "text/x-python",
   "name": "python",
   "nbconvert_exporter": "python",
   "pygments_lexer": "ipython2",
   "version": "2.7.10"
  }
 },
 "nbformat": 4,
 "nbformat_minor": 0
}
