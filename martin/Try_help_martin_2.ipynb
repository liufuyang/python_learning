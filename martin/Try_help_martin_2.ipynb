{
 "cells": [
  {
   "cell_type": "code",
   "execution_count": 1,
   "metadata": {
    "collapsed": true
   },
   "outputs": [],
   "source": [
    "name_tran_dict = {\n",
    "    '03': 'Sensor 1',\n",
    "    '04': 'Sensor 2',\n",
    "    '05': 'Wrong Sensor'\n",
    "}"
   ]
  },
  {
   "cell_type": "code",
   "execution_count": 5,
   "metadata": {
    "collapsed": false
   },
   "outputs": [
    {
     "name": "stderr",
     "output_type": "stream",
     "text": [
      "Vendor:  Continuum Analytics, Inc.\n",
      "Package: mkl\n",
      "Message: trial mode expires in 30 days\n"
     ]
    }
   ],
   "source": [
    "import pandas as pd\n",
    "import numpy as np\n",
    "\n",
    "df = pd.read_csv('./data1.csv', parse_dates=True)\n",
    "\n",
    "tag_names = df['tagname'].unique() # gets the unique tag names\n",
    "data_dic = {} # create an empty dictionary (map)\n",
    "\n",
    "for name in tag_names: # use the unique name to assemble a dictionary, with name as key, value as selected data\n",
    "    # print(name)\n",
    "    short_name = name[12: 14]\n",
    "    translated_name = name_tran_dict[short_name]\n",
    "    data_dic[translated_name] = df[ df['tagname'] == name]"
   ]
  },
  {
   "cell_type": "code",
   "execution_count": null,
   "metadata": {
    "collapsed": true
   },
   "outputs": [],
   "source": []
  },
  {
   "cell_type": "code",
   "execution_count": 6,
   "metadata": {
    "collapsed": false
   },
   "outputs": [
    {
     "data": {
      "text/plain": [
       "{'Sensor 1':                tagname                 time  value1  value2\n",
       " 6  FL02.X05_Z4103.f_CV  12/12/2016 09:00:30    4.67    0.96\n",
       " 7  FL02.X05_Z4103.f_CV  12/12/2016 09:01:30    4.77    0.90\n",
       " 8  FL02.X05_Z4103.f_CV  12/12/2016 09:02:30    4.78    0.27,\n",
       " 'Sensor 2':                tagname                 time  value1  value2\n",
       " 3  FL02.X05_Z4104.f_CV  12/12/2016 09:00:30    6.87    0.44\n",
       " 4  FL02.X05_Z4104.f_CV  12/12/2016 09:01:30    6.88    0.34\n",
       " 5  FL02.X05_Z4104.f_CV  12/12/2016 09:02:30    6.89    0.92,\n",
       " 'Wrong Sensor':                tagname                 time  value1  value2\n",
       " 0  FL02.X05_Z4105.f_CV  12/12/2016 09:00:30    5.90    0.16\n",
       " 1  FL02.X05_Z4105.f_CV  12/12/2016 09:01:30    5.10    0.45\n",
       " 2  FL02.X05_Z4105.f_CV  12/12/2016 09:02:30    5.11    0.55}"
      ]
     },
     "execution_count": 6,
     "metadata": {},
     "output_type": "execute_result"
    }
   ],
   "source": [
    "data_dic"
   ]
  },
  {
   "cell_type": "code",
   "execution_count": 7,
   "metadata": {
    "collapsed": false
   },
   "outputs": [],
   "source": [
    "for group_key in data_dic:\n",
    "    df_group = data_dic[group_key]\n",
    "    del df_group['tagname']\n",
    "    df_group.to_csv(group_key + '.csv', index=False)"
   ]
  },
  {
   "cell_type": "code",
   "execution_count": null,
   "metadata": {
    "collapsed": true
   },
   "outputs": [],
   "source": []
  }
 ],
 "metadata": {
  "kernelspec": {
   "display_name": "Python 2",
   "language": "python",
   "name": "python2"
  },
  "language_info": {
   "codemirror_mode": {
    "name": "ipython",
    "version": 2
   },
   "file_extension": ".py",
   "mimetype": "text/x-python",
   "name": "python",
   "nbconvert_exporter": "python",
   "pygments_lexer": "ipython2",
   "version": "2.7.10"
  }
 },
 "nbformat": 4,
 "nbformat_minor": 0
}
